{
 "cells": [
  {
   "cell_type": "markdown",
   "metadata": {
    "id": "WqXiajIU1x5w"
   },
   "source": [
    "# Introducción a Python - Ejercicios"
   ]
  },
  {
   "cell_type": "markdown",
   "metadata": {
    "id": "61k3vw_C1x5z"
   },
   "source": [
    "### 1. Declarar dos variables numéricas y realizar la división entre ambas ¿De qué tipo es la variable respuesta? ¿Qué podemos hacer para que sea un entero?"
   ]
  },
  {
   "cell_type": "code",
   "execution_count": 1,
   "metadata": {
    "id": "vodPgC5R1y1q"
   },
   "outputs": [
    {
     "name": "stdout",
     "output_type": "stream",
     "text": [
      "15\n"
     ]
    }
   ],
   "source": [
    "a = 5\n",
    "b = 10\n",
    "result = a + b\n",
    "print(result)"
   ]
  },
  {
   "cell_type": "markdown",
   "metadata": {
    "id": "KZACPk281x50"
   },
   "source": [
    "### 2.  De dos números, comprobar cuál es el mayor."
   ]
  },
  {
   "cell_type": "code",
   "execution_count": 5,
   "metadata": {
    "id": "HlmKhtzm1zQW"
   },
   "outputs": [
    {
     "name": "stdout",
     "output_type": "stream",
     "text": [
      "56 es igual que 56\n"
     ]
    }
   ],
   "source": [
    "a = int(input('ingrese numero 1: '))\n",
    "b = int(input('ingrese numero 2: '))\n",
    "\n",
    "if a>b:\n",
    "    print(str(a) + ' es mayor que ' +str(b))\n",
    "elif a<b:\n",
    "    print(str(b) + ' es mayor que ' +str(a))\n",
    "else:\n",
    "    print(str(a) + ' es igual que ' +str(b))"
   ]
  },
  {
   "cell_type": "markdown",
   "metadata": {
    "id": "A0K-xuSR1x51"
   },
   "source": [
    "### 3. Escribir un programa que solicite al usuario su nombre y edad (separados por coma), e imprima por pantalla:\n",
    "\n",
    "Su nombre es: Juan  \n",
    "\n",
    "Su edad es: 35"
   ]
  },
  {
   "cell_type": "code",
   "execution_count": 15,
   "metadata": {
    "id": "lyscKSNo1zri"
   },
   "outputs": [
    {
     "name": "stdout",
     "output_type": "stream",
     "text": [
      "Su nombre es: pedro\n",
      "su edad es:  20\n"
     ]
    }
   ],
   "source": [
    "\n",
    "user = input('ingrese su nombre y su edad separados por coma:')\n",
    "name , age = user.split(',')\n",
    "print('Su nombre es: '+name+'\\n'\n",
    "       'su edad es: '+ age)\n",
    "\n",
    "\n"
   ]
  },
  {
   "cell_type": "markdown",
   "metadata": {
    "id": "XkBVAUCm1x52"
   },
   "source": [
    "### 4. Construir dos listas y extender la primera, para que también tenga los elementos de la segunda. Hacer lo mismo con una tupla."
   ]
  },
  {
   "cell_type": "code",
   "execution_count": 16,
   "metadata": {
    "id": "FHrifo2i10KI"
   },
   "outputs": [
    {
     "data": {
      "text/plain": [
       "[1, 2, 3, 4, 5, 6, 7, 8, 9]"
      ]
     },
     "execution_count": 16,
     "metadata": {},
     "output_type": "execute_result"
    }
   ],
   "source": [
    "list1 = [1,2,3,4,]\n",
    "list2 = [5,6,7,8,9]\n",
    "\n",
    "totalList = list1+list2\n",
    "totalList"
   ]
  },
  {
   "cell_type": "markdown",
   "metadata": {
    "id": "1Ww0ZgC51x52"
   },
   "source": [
    "### 5. Crear dos cadenas de caracteres y concaterlas."
   ]
  },
  {
   "cell_type": "code",
   "execution_count": 17,
   "metadata": {
    "id": "xYk0SW3q10jM"
   },
   "outputs": [
    {
     "data": {
      "text/plain": [
       "'Hola que tal?, como estas?'"
      ]
     },
     "execution_count": 17,
     "metadata": {},
     "output_type": "execute_result"
    }
   ],
   "source": [
    "string1 = 'Hola que tal?, '\n",
    "string2 = 'como estas?'\n",
    "totalString = string1+string2\n",
    "totalString"
   ]
  },
  {
   "cell_type": "markdown",
   "metadata": {
    "id": "ejiCDAF91x53"
   },
   "source": [
    "### 6. Crear una tupla e imprimir por pantalla su tercer elemento. "
   ]
  },
  {
   "cell_type": "code",
   "execution_count": 18,
   "metadata": {
    "id": "92CTlD_G10-R"
   },
   "outputs": [
    {
     "data": {
      "text/plain": [
       "3"
      ]
     },
     "execution_count": 18,
     "metadata": {},
     "output_type": "execute_result"
    }
   ],
   "source": [
    "tupla = (1,2,3,4,5,6)\n",
    "tupla[2]"
   ]
  },
  {
   "cell_type": "markdown",
   "metadata": {
    "id": "exbMscYa1x54"
   },
   "source": [
    "### 7. Crear una cadena de caracteres y convertirla a una lista."
   ]
  },
  {
   "cell_type": "code",
   "execution_count": 3,
   "metadata": {
    "id": "XvouW2YK11dz"
   },
   "outputs": [
    {
     "name": "stdout",
     "output_type": "stream",
     "text": [
      "['h', 'o', 'l', 'a', ' ', 'c', 'o', 'm', 'o', ' ', 'e', 's', 't', 'a', 's', '?']\n"
     ]
    }
   ],
   "source": [
    "cadena1 = \"hola como estas?\"\n",
    "lista1 = list(cadena1)\n",
    "print(lista1)\n"
   ]
  },
  {
   "cell_type": "markdown",
   "metadata": {
    "id": "0Z2qzH931x54"
   },
   "source": [
    "### 8. Comprobar si tu nombre contiene la letra _o_."
   ]
  },
  {
   "cell_type": "code",
   "execution_count": 11,
   "metadata": {
    "id": "39sXQlJy11yX"
   },
   "outputs": [
    {
     "data": {
      "text/plain": [
       "True"
      ]
     },
     "execution_count": 11,
     "metadata": {},
     "output_type": "execute_result"
    }
   ],
   "source": [
    "name = 'Felipo'\n",
    "\n",
    "contiene = 'o' in name\n",
    "contiene"
   ]
  },
  {
   "cell_type": "markdown",
   "metadata": {
    "id": "OSQZ_VVq1x55"
   },
   "source": [
    "### 9. Escribir tu nombre y apellidos y convertilo todo a mayúscula."
   ]
  },
  {
   "cell_type": "code",
   "execution_count": 14,
   "metadata": {
    "id": "tjYGclKS12J-"
   },
   "outputs": [
    {
     "name": "stdout",
     "output_type": "stream",
     "text": [
      "mi nombre es: FELIPE VELIZ\n"
     ]
    }
   ],
   "source": [
    "nombre = 'Felipe'\n",
    "apellido = 'Veliz'\n",
    "\n",
    "nombre = nombre.upper()\n",
    "apellido = apellido.upper()\n",
    "\n",
    "print('mi nombre es: ' + nombre, apellido)"
   ]
  },
  {
   "cell_type": "markdown",
   "metadata": {
    "id": "YbiBWm2Z1x55"
   },
   "source": [
    "### 10. Escribir un programa que solicite al usuario una lista de números separados por coma, construya una lista y una tupla a partir de la lista recibida y las muestre por pantalla"
   ]
  },
  {
   "cell_type": "code",
   "execution_count": 18,
   "metadata": {
    "id": "zKFzbL6012bc"
   },
   "outputs": [
    {
     "name": "stdout",
     "output_type": "stream",
     "text": [
      "['1', '2', '3', '4', '5', '6', '7']\n",
      "('1', '2', '3', '4', '5', '6', '7')\n"
     ]
    }
   ],
   "source": [
    "numeros = input('ingrese numeros separados por coma: ').split(',')\n",
    "tupla = tuple(numeros)\n",
    "print(numeros)\n",
    "print(tupla)"
   ]
  },
  {
   "cell_type": "markdown",
   "metadata": {
    "id": "KyRq0cZX1x55"
   },
   "source": [
    "### 11. Escribir un programa que solicite al usuario un listado de nombres separados por punto y coma, construya una lista e imprima por pantalla los elementos pares de la lista"
   ]
  },
  {
   "cell_type": "code",
   "execution_count": 21,
   "metadata": {
    "id": "yh4xqp0z13A7"
   },
   "outputs": [
    {
     "name": "stdout",
     "output_type": "stream",
     "text": [
      "['pedro', ' juan', ' diego', ' manuel', ' emilia', ' jorge', '  natalia', ' pancho', ' pablo', ' jose', ' vale', ' felipe']\n"
     ]
    },
    {
     "data": {
      "text/plain": [
       "[' juan', ' manuel', ' jorge', ' pancho', ' jose', ' felipe']"
      ]
     },
     "execution_count": 21,
     "metadata": {},
     "output_type": "execute_result"
    }
   ],
   "source": [
    "numeros = input('ingrese nombres separados por punto y coma: ').split(';')\n",
    "print(numeros)\n",
    "numeros[1::2]"
   ]
  },
  {
   "cell_type": "markdown",
   "metadata": {
    "id": "deIyh-ML1x56"
   },
   "source": [
    "### 12. Escribir un programa que solicite al usuario dos cadenas de texto y detecte si la segunda está contenida en la primera."
   ]
  },
  {
   "cell_type": "code",
   "execution_count": 23,
   "metadata": {
    "id": "qf06KoJ213aR"
   },
   "outputs": [
    {
     "data": {
      "text/plain": [
       "True"
      ]
     },
     "execution_count": 23,
     "metadata": {},
     "output_type": "execute_result"
    }
   ],
   "source": [
    "string1 = input('ingrese cadena 1: ')\n",
    "string2 = input('ingrese cadena 2: ')\n",
    "contiene= string2 in string1\n",
    "contiene"
   ]
  },
  {
   "cell_type": "markdown",
   "metadata": {
    "id": "ApMfpasZ1x56"
   },
   "source": [
    "### 13. Escribir un programa que solicite al usuario una lista de nombres separados por coma, una posición y devuelva la lista de nombres sustituyendo el que aparece en la posición indicada por \"Miguel\""
   ]
  },
  {
   "cell_type": "code",
   "execution_count": 25,
   "metadata": {
    "id": "24YWwnmb13sS"
   },
   "outputs": [
    {
     "data": {
      "text/plain": [
       "['pedro', ' juan', 'Miguel', ' francis', ' pancho', ' prieta']"
      ]
     },
     "execution_count": 25,
     "metadata": {},
     "output_type": "execute_result"
    }
   ],
   "source": [
    "names = input('ingrese nombres separados por coma: ').split(',')\n",
    "i = int(input('ingrese indice: '))\n",
    "\n",
    "names[i]='Miguel'\n",
    "names"
   ]
  },
  {
   "cell_type": "markdown",
   "metadata": {
    "id": "SZALo6Y41x56"
   },
   "source": [
    "### 14. Crear una lista de 10 números y devolver del cuarto al octavo elemento."
   ]
  },
  {
   "cell_type": "code",
   "execution_count": 27,
   "metadata": {
    "id": "1Jq62g9F14Al"
   },
   "outputs": [
    {
     "data": {
      "text/plain": [
       "[4, 5, 6, 7, 8]"
      ]
     },
     "execution_count": 27,
     "metadata": {},
     "output_type": "execute_result"
    }
   ],
   "source": [
    "lista = [1,2,3,4,5,6,7,8,9,0]\n",
    "lista[3:8]"
   ]
  },
  {
   "cell_type": "markdown",
   "metadata": {
    "id": "WjLKI_DT1x57"
   },
   "source": [
    "### 15. Crear un diccionario a partir de dos listas (los elementos de una de ellas deben ser las claves del diccionario y los elementos de la otra, los valores del diccionario)."
   ]
  },
  {
   "cell_type": "code",
   "execution_count": 5,
   "metadata": {
    "id": "PfIBi7FA14lI"
   },
   "outputs": [
    {
     "data": {
      "text/plain": [
       "{'argentina': 30000000,\n",
       " 'chile': 20000000,\n",
       " 'uruguay': 10000000,\n",
       " 'peru': 50000000,\n",
       " 'brasil': 80000000}"
      ]
     },
     "execution_count": 5,
     "metadata": {},
     "output_type": "execute_result"
    }
   ],
   "source": [
    "paises = ['argentina', 'chile', 'uruguay', 'peru', 'brasil']\n",
    "poblacion = [30000000, 20000000, 10000000, 50000000, 80000000]\n",
    "dict_1 = dict(zip(paises, poblacion))\n",
    "dict_1"
   ]
  },
  {
   "cell_type": "markdown",
   "metadata": {
    "id": "jozjF2aO1x57"
   },
   "source": [
    "### 16. Insertar en el diccionario anterior un nuevo valor, cuya clave sea \"nueva_clave\"."
   ]
  },
  {
   "cell_type": "code",
   "execution_count": 6,
   "metadata": {
    "id": "tuic7DNC149n"
   },
   "outputs": [
    {
     "data": {
      "text/plain": [
       "{'argentina': 30000000,\n",
       " 'chile': 20000000,\n",
       " 'uruguay': 10000000,\n",
       " 'peru': 50000000,\n",
       " 'brasil': 80000000,\n",
       " 'nueva_clave': 25}"
      ]
     },
     "execution_count": 6,
     "metadata": {},
     "output_type": "execute_result"
    }
   ],
   "source": [
    "dict_1['nueva_clave'] =  55\n",
    "dict_1 "
   ]
  },
  {
   "cell_type": "markdown",
   "metadata": {
    "collapsed": true,
    "id": "Su6MFAmI1x57"
   },
   "source": [
    "### 17. Modificar el valor añadido al diccionario, accediendo por la clave \"nueva_clave\"."
   ]
  },
  {
   "cell_type": "code",
   "execution_count": null,
   "metadata": {
    "id": "eQM5kemd15NN"
   },
   "outputs": [],
   "source": []
  },
  {
   "cell_type": "markdown",
   "metadata": {
    "id": "hRB74khw1x57"
   },
   "source": [
    "### 18.  Eliminar todos los elementos del diccionario creado."
   ]
  },
  {
   "cell_type": "code",
   "execution_count": null,
   "metadata": {
    "id": "5P13u56M15ll"
   },
   "outputs": [],
   "source": []
  },
  {
   "cell_type": "markdown",
   "metadata": {
    "id": "TkqdMRmM1x58"
   },
   "source": [
    "### 19. Crear dos listas y calcular su unión."
   ]
  },
  {
   "cell_type": "code",
   "execution_count": null,
   "metadata": {
    "id": "zR1GFX6x16AH"
   },
   "outputs": [],
   "source": []
  },
  {
   "cell_type": "markdown",
   "metadata": {
    "collapsed": true,
    "id": "J2btrcqu1x58"
   },
   "source": [
    "### 20. Crear dos conjuntos y calcular su unión, intersección y diferencia simétrica."
   ]
  },
  {
   "cell_type": "code",
   "execution_count": null,
   "metadata": {
    "id": "WcmbUvro16wH"
   },
   "outputs": [],
   "source": []
  }
 ],
 "metadata": {
  "anaconda-cloud": {},
  "colab": {
   "collapsed_sections": [],
   "name": "Ejercicio1_2.ipynb",
   "provenance": []
  },
  "kernelspec": {
   "display_name": "Python 3 (ipykernel)",
   "language": "python",
   "name": "python3"
  },
  "language_info": {
   "codemirror_mode": {
    "name": "ipython",
    "version": 3
   },
   "file_extension": ".py",
   "mimetype": "text/x-python",
   "name": "python",
   "nbconvert_exporter": "python",
   "pygments_lexer": "ipython3",
   "version": "3.9.12"
  },
  "vscode": {
   "interpreter": {
    "hash": "62402a78da51936cac1207f12cdcd4ce10f2f8c6c6c76c13cb00f038c86d97f7"
   }
  }
 },
 "nbformat": 4,
 "nbformat_minor": 1
}
